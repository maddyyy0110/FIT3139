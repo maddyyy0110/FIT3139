{
 "cells": [
  {
   "cell_type": "code",
   "execution_count": 34,
   "id": "0f8a6677",
   "metadata": {},
   "outputs": [],
   "source": [
    "import numpy as np\n",
    "from matplotlib import pyplot as plt"
   ]
  },
  {
   "cell_type": "code",
   "execution_count": 35,
   "id": "bab4997d",
   "metadata": {},
   "outputs": [
    {
     "data": {
      "text/plain": [
       "[<matplotlib.lines.Line2D at 0x7f01dadd1eb0>]"
      ]
     },
     "execution_count": 35,
     "metadata": {},
     "output_type": "execute_result"
    },
    {
     "data": {
      "image/png": "[encoded data removed]",
      "text/plain": [
       "<Figure size 432x288 with 1 Axes>"
      ]
     },
     "metadata": {
      "needs_background": "light"
     },
     "output_type": "display_data"
    }
   ],
   "source": [
    "f = lambda x: np.sin(x) + 2*np.log(x) - np.sqrt(x)\n",
    "x = np.arange(2*np.pi, 8*np.pi, 0.001)\n",
    "\n",
    "plt.plot(x, f(x))"
   ]
  },
  {
   "cell_type": "code",
   "execution_count": 36,
   "id": "f3e514ea",
   "metadata": {},
   "outputs": [],
   "source": [
    "\n",
    "def random_ab(a, b):\n",
    "    return (b-a)*np.random.random() + a\n",
    "\n",
    "def random_walk(f, domain, max_iter=1000, verbose=False):\n",
    "    x_star = None\n",
    "    for i in range(max_iter):\n",
    "        x = random_ab(domain[0], domain[1])\n",
    "        if (x_star == None) or (f(x) > f(x_star)):\n",
    "            x_star = x\n",
    "        if verbose: print(x, f(x))\n",
    "    return x_star\n",
    "\n",
    "def hill_climb(f, domain, x0, epsilon=1e-3, max_iter=1000, verbose=False):\n",
    "    x_star = x0\n",
    "    for i in range(max_iter):\n",
    "        if verbose: print(x_star, f(x_star))\n",
    "        x_left = x_star - epsilon\n",
    "        x_right = x_star + epsilon\n",
    "        if (f(x_star) > f(x_left)) and (f(x_star) > f(x_right)):\n",
    "            return x_star #local maxima\n",
    "        elif (f(x_star) < f(x_left)) and (f(x_star) < f(x_right)): # local minima\n",
    "            if f(x_left) > f(x_right):\n",
    "                x_star = x_left\n",
    "            else:\n",
    "                x_star = x_right\n",
    "        elif f(x_star) < f(x_left): # move left\n",
    "            x_star = x_left\n",
    "        elif f(x_star) < f(x_right): # move right\n",
    "            x_star = x_right\n",
    "    return x_star"
   ]
  },
  {
   "cell_type": "code",
   "execution_count": 37,
   "id": "774fdce4",
   "metadata": {},
   "outputs": [
    {
     "name": "stdout",
     "output_type": "stream",
     "text": [
      "11.85985136837947 0.8533140740138991\n",
      "13.980458124863649 2.5240222117752906\n",
      "13.121120418723413 2.0528682837184027\n",
      "18.553617845112658 1.242301256870892\n",
      "24.439636974691922 0.8098381844416043\n",
      "11.19765606051524 0.5054681872986242\n",
      "19.678142651995998 2.2599886142490213\n",
      "22.081702335355434 1.3999513927082852\n",
      "16.119328805595522 1.1452884860500925\n",
      "17.519465501063266 0.569829158719636\n"
     ]
    },
    {
     "data": {
      "text/plain": [
       "13.980458124863649"
      ]
     },
     "execution_count": 37,
     "metadata": {},
     "output_type": "execute_result"
    }
   ],
   "source": [
    "random_walk(f, domain=[2*np.pi, 8*np.pi], max_iter=10, verbose=True)"
   ]
  },
  {
   "cell_type": "code",
   "execution_count": 38,
   "id": "db3f061a",
   "metadata": {},
   "outputs": [
    {
     "name": "stdout",
     "output_type": "stream",
     "text": [
      "20 2.4322738428360298\n",
      "20.01 2.436190804372557\n",
      "20.020000000000003 2.440015848436169\n",
      "20.030000000000005 2.4437485809789434\n",
      "20.040000000000006 2.4473886171615575\n",
      "20.050000000000008 2.4509355813918017\n",
      "20.06000000000001 2.4543891073621653\n",
      "20.07000000000001 2.4577488380864994\n",
      "20.080000000000013 2.461014425935743\n",
      "20.090000000000014 2.464185532672719\n",
      "20.100000000000016 2.46726182948598\n",
      "20.110000000000017 2.47024299702273\n",
      "20.12000000000002 2.4731287254207786\n",
      "20.13000000000002 2.475918714339559\n",
      "20.140000000000022 2.4786126729901996\n",
      "20.150000000000023 2.4812103201646174\n",
      "20.160000000000025 2.4837113842636818\n",
      "20.170000000000027 2.4861156033243956\n",
      "20.180000000000028 2.48842272504612\n",
      "20.19000000000003 2.4906325068158415\n",
      "20.20000000000003 2.492744715732454\n",
      "20.210000000000033 2.494759128630079\n",
      "20.220000000000034 2.496675532100417\n",
      "20.230000000000036 2.498493722514109\n",
      "20.240000000000038 2.500213506041135\n",
      "20.25000000000004 2.501834698670222\n",
      "20.26000000000004 2.503357126227277\n",
      "20.270000000000042 2.5047806243928266\n",
      "20.280000000000044 2.506105038718487\n",
      "20.290000000000045 2.5073302246424296\n",
      "20.300000000000047 2.5084560475038717\n",
      "20.31000000000005 2.5094823825565635\n",
      "20.32000000000005 2.5104091149812993\n",
      "20.33000000000005 2.5112361398974246\n",
      "20.340000000000053 2.5119633623733524\n",
      "20.350000000000055 2.5125906974360817\n",
      "20.360000000000056 2.513118070079728\n",
      "20.370000000000058 2.5135454152730548\n",
      "20.38000000000006 2.5138726779659937\n",
      "20.39000000000006 2.5140998130951884\n",
      "20.400000000000063 2.5142267855885256\n",
      "20.410000000000064 2.514253570368667\n"
     ]
    },
    {
     "data": {
      "text/plain": [
       "20.410000000000064"
      ]
     },
     "execution_count": 38,
     "metadata": {},
     "output_type": "execute_result"
    }
   ],
   "source": [
    "hill_climb(f, domain=[2*np.pi, 8*np.pi], x0=20, epsilon=1e-2, max_iter=100, verbose=True)"
   ]
  },
  {
   "cell_type": "code",
   "execution_count": 39,
   "id": "c72086e0",
   "metadata": {},
   "outputs": [
    {
     "data": {
      "text/plain": [
       "2.514253570368668"
      ]
     },
     "execution_count": 39,
     "metadata": {},
     "output_type": "execute_result"
    }
   ],
   "source": [
    "f(20.41)"
   ]
  },
  {
   "cell_type": "code",
   "execution_count": 40,
   "id": "8cd4aba3",
   "metadata": {},
   "outputs": [
    {
     "data": {
      "text/plain": [
       "2.5376721533048476"
      ]
     },
     "execution_count": 40,
     "metadata": {},
     "output_type": "execute_result"
    }
   ],
   "source": [
    "f(9*np.pi/2)"
   ]
  },
  {
   "cell_type": "markdown",
   "id": "1ab05b15",
   "metadata": {},
   "source": [
    "# Simulated Annealing"
   ]
  },
  {
   "cell_type": "code",
   "execution_count": 41,
   "id": "82d0d64b",
   "metadata": {},
   "outputs": [],
   "source": [
    "def metropolis(f_x, f_x_star, t):\n",
    "    delta = f_x_star - f_x\n",
    "    if delta > 0:\n",
    "        return True\n",
    "    else:\n",
    "        return np.random.random() < np.exp(-delta/t)"
   ]
  },
  {
   "cell_type": "code",
   "execution_count": 42,
   "id": "b23e15d1",
   "metadata": {},
   "outputs": [],
   "source": [
    "def SA(f, peturb, sol, per_temp, t0, alpha, tol=1e-3, verbose=False):\n",
    "    T = t0\n",
    "    if verbose: print(\"initial guess: {0}, quality: {1}\".format(sol, f(sol)))\n",
    "    while T>tol:\n",
    "        for _ in range(per_temp):\n",
    "            sol_new = peturb(sol)\n",
    "            if metropolis(f(sol), f(sol_new), T):\n",
    "                sol = sol_new\n",
    "        if verbose: print(\"Best Guess at T={0}: {1}, quality: {2}\".format(T, sol, f(sol)))\n",
    "        T *= alpha\n",
    "    if verbose: print(\"Best Guess: {0}, quality: {1}\".format(sol, f(sol)))\n",
    "    return sol, f(sol)"
   ]
  },
  {
   "cell_type": "code",
   "execution_count": 43,
   "id": "a14ec6e0",
   "metadata": {},
   "outputs": [],
   "source": [
    "def peturb_TSP(sol):\n",
    "    idxs = range(len(sol))\n",
    "    first, second = np.random.choice(idxs, size=2, replace=False)\n",
    "    sol[first], sol[second] = sol[second], sol[first]\n",
    "    return sol"
   ]
  },
  {
   "cell_type": "code",
   "execution_count": 48,
   "id": "39227993",
   "metadata": {},
   "outputs": [],
   "source": [
    "def quality_TSP_Gen(M):\n",
    "    def quality_TSP(sol):\n",
    "        cost = 0\n",
    "        for i in range(len(sol)):\n",
    "            cost += M[sol[i-1], sol[i]]\n",
    "        if cost == 0:\n",
    "            return 1e-10\n",
    "        else:\n",
    "            return 1/cost\n",
    "    return quality_TSP"
   ]
  },
  {
   "cell_type": "code",
   "execution_count": 49,
   "id": "371b9880",
   "metadata": {},
   "outputs": [],
   "source": [
    "T = np.array([\n",
    "    [0, 2053, 1155, 3017, 1385],\n",
    "    [2053, 0, 1080, 3415, 939],\n",
    "    [1155, 1080, 0, 3940, 285],\n",
    "    [3017, 3415, 3940, 0, 3975],\n",
    "    [1385, 939, 285, 3975, 0]\n",
    "    ])\n",
    "\n",
    "f = quality_TSP_Gen(T)\n",
    "sol_0 = [0, 1, 2, 3, 4]"
   ]
  },
  {
   "cell_type": "code",
   "execution_count": 50,
   "id": "9a19bfc7",
   "metadata": {},
   "outputs": [
    {
     "name": "stdout",
     "output_type": "stream",
     "text": [
      "initial guess: [0, 1, 2, 3, 4], quality: 8.043111075363951e-05\n",
      "Best Guess at T=1: [4, 1, 3, 2, 0], quality: 9.230201218386561e-05\n",
      "Best Guess at T=0.95: [3, 2, 0, 4, 1], quality: 9.230201218386561e-05\n",
      "Best Guess at T=0.9025: [4, 2, 3, 0, 1], quality: 9.771350400625366e-05\n",
      "Best Guess at T=0.8573749999999999: [3, 2, 0, 4, 1], quality: 9.230201218386561e-05\n",
      "Best Guess at T=0.8145062499999999: [1, 2, 4, 0, 3], quality: 0.00010890873448050534\n",
      "Best Guess at T=0.7737809374999999: [2, 1, 4, 3, 0], quality: 9.83671060397403e-05\n",
      "Best Guess at T=0.7350918906249998: [4, 1, 3, 2, 0], quality: 9.230201218386561e-05\n",
      "Best Guess at T=0.6983372960937497: [1, 0, 2, 4, 3], quality: 9.188642837452908e-05\n",
      "Best Guess at T=0.6634204312890623: [0, 4, 3, 2, 1], quality: 8.043111075363951e-05\n",
      "Best Guess at T=0.6302494097246091: [4, 3, 2, 1, 0], quality: 8.043111075363951e-05\n",
      "Best Guess at T=0.5987369392383786: [4, 3, 1, 0, 2], quality: 9.188642837452908e-05\n",
      "Best Guess at T=0.5688000922764596: [0, 3, 4, 1, 2], quality: 9.83671060397403e-05\n",
      "Best Guess at T=0.5403600876626365: [2, 0, 3, 4, 1], quality: 9.83671060397403e-05\n",
      "Best Guess at T=0.5133420832795047: [3, 1, 2, 4, 0], quality: 0.00010890873448050534\n",
      "Best Guess at T=0.48767497911552943: [3, 0, 2, 1, 4], quality: 9.83671060397403e-05\n",
      "Best Guess at T=0.46329123015975293: [3, 2, 0, 4, 1], quality: 9.230201218386561e-05\n",
      "Best Guess at T=0.44012666865176525: [2, 0, 1, 3, 4], quality: 9.188642837452908e-05\n",
      "Best Guess at T=0.41812033521917696: [1, 0, 3, 2, 4], quality: 9.771350400625366e-05\n",
      "Best Guess at T=0.3972143184582181: [2, 4, 3, 1, 0], quality: 9.188642837452908e-05\n",
      "Best Guess at T=0.37735360253530714: [3, 2, 1, 0, 4], quality: 8.043111075363951e-05\n",
      "Best Guess at T=0.35848592240854177: [4, 0, 2, 3, 1], quality: 9.230201218386561e-05\n",
      "Best Guess at T=0.34056162628811465: [3, 0, 2, 1, 4], quality: 9.83671060397403e-05\n",
      "Best Guess at T=0.3235335449737089: [4, 1, 2, 0, 3], quality: 9.83671060397403e-05\n",
      "Best Guess at T=0.30735686772502346: [0, 4, 2, 1, 3], quality: 0.00010890873448050534\n",
      "Best Guess at T=0.2919890243387723: [1, 0, 3, 2, 4], quality: 9.771350400625366e-05\n",
      "Best Guess at T=0.27738957312183365: [4, 0, 2, 3, 1], quality: 9.230201218386561e-05\n",
      "Best Guess at T=0.263520094465742: [1, 3, 4, 2, 0], quality: 9.188642837452908e-05\n",
      "Best Guess at T=0.25034408974245487: [1, 4, 2, 3, 0], quality: 9.771350400625366e-05\n",
      "Best Guess at T=0.2378268852553321: [4, 0, 1, 2, 3], quality: 8.043111075363951e-05\n",
      "Best Guess at T=0.2259355409925655: [4, 1, 2, 0, 3], quality: 9.83671060397403e-05\n",
      "Best Guess at T=0.2146387639429372: [3, 0, 2, 1, 4], quality: 9.83671060397403e-05\n",
      "Best Guess at T=0.20390682574579033: [4, 0, 3, 1, 2], quality: 0.00010890873448050534\n",
      "Best Guess at T=0.1937114844585008: [2, 1, 4, 3, 0], quality: 9.83671060397403e-05\n",
      "Best Guess at T=0.18402591023557577: [3, 2, 0, 4, 1], quality: 9.230201218386561e-05\n",
      "Best Guess at T=0.17482461472379698: [2, 4, 0, 3, 1], quality: 0.00010890873448050534\n",
      "Best Guess at T=0.16608338398760714: [3, 4, 1, 2, 0], quality: 9.83671060397403e-05\n",
      "Best Guess at T=0.15777921478822676: [0, 4, 2, 1, 3], quality: 0.00010890873448050534\n",
      "Best Guess at T=0.14989025404881542: [0, 2, 3, 1, 4], quality: 9.230201218386561e-05\n",
      "Best Guess at T=0.14239574134637464: [4, 0, 2, 3, 1], quality: 9.230201218386561e-05\n",
      "Best Guess at T=0.1352759542790559: [4, 0, 2, 3, 1], quality: 9.230201218386561e-05\n",
      "Best Guess at T=0.1285121565651031: [3, 1, 4, 0, 2], quality: 9.230201218386561e-05\n",
      "Best Guess at T=0.12208654873684793: [1, 2, 0, 3, 4], quality: 9.83671060397403e-05\n",
      "Best Guess at T=0.11598222130000553: [4, 3, 0, 2, 1], quality: 9.83671060397403e-05\n",
      "Best Guess at T=0.11018311023500525: [1, 0, 3, 2, 4], quality: 9.771350400625366e-05\n",
      "Best Guess at T=0.10467395472325498: [1, 2, 4, 0, 3], quality: 0.00010890873448050534\n",
      "Best Guess at T=0.09944025698709223: [0, 1, 2, 3, 4], quality: 8.043111075363951e-05\n",
      "Best Guess at T=0.09446824413773762: [2, 3, 4, 0, 1], quality: 8.043111075363951e-05\n",
      "Best Guess at T=0.08974483193085074: [0, 3, 1, 2, 4], quality: 0.00010890873448050534\n",
      "Best Guess at T=0.0852575903343082: [4, 3, 0, 2, 1], quality: 9.83671060397403e-05\n",
      "Best Guess at T=0.08099471081759278: [4, 2, 1, 3, 0], quality: 0.00010890873448050534\n",
      "Best Guess at T=0.07694497527671314: [2, 3, 4, 0, 1], quality: 8.043111075363951e-05\n",
      "Best Guess at T=0.07309772651287748: [3, 4, 2, 0, 1], quality: 9.188642837452908e-05\n",
      "Best Guess at T=0.0694428401872336: [4, 2, 1, 3, 0], quality: 0.00010890873448050534\n",
      "Best Guess at T=0.0659706981778719: [2, 4, 1, 0, 3], quality: 9.771350400625366e-05\n",
      "Best Guess at T=0.0626721632689783: [2, 4, 1, 0, 3], quality: 9.771350400625366e-05\n",
      "Best Guess at T=0.059538555105529384: [0, 3, 1, 2, 4], quality: 0.00010890873448050534\n",
      "Best Guess at T=0.05656162735025291: [4, 2, 0, 1, 3], quality: 9.188642837452908e-05\n",
      "Best Guess at T=0.053733545982740265: [2, 1, 3, 0, 4], quality: 0.00010890873448050534\n",
      "Best Guess at T=0.05104686868360325: [2, 1, 3, 0, 4], quality: 0.00010890873448050534\n",
      "Best Guess at T=0.04849452524942309: [3, 4, 0, 1, 2], quality: 8.043111075363951e-05\n",
      "Best Guess at T=0.04606979898695193: [0, 3, 1, 2, 4], quality: 0.00010890873448050534\n",
      "Best Guess at T=0.04376630903760433: [1, 2, 4, 0, 3], quality: 0.00010890873448050534\n",
      "Best Guess at T=0.041577993585724116: [2, 1, 3, 0, 4], quality: 0.00010890873448050534\n",
      "Best Guess at T=0.03949909390643791: [3, 4, 1, 2, 0], quality: 9.83671060397403e-05\n",
      "Best Guess at T=0.03752413921111601: [4, 0, 1, 2, 3], quality: 8.043111075363951e-05\n",
      "Best Guess at T=0.03564793225056021: [4, 2, 3, 0, 1], quality: 9.771350400625366e-05\n",
      "Best Guess at T=0.0338655356380322: [0, 4, 2, 1, 3], quality: 0.00010890873448050534\n",
      "Best Guess at T=0.032172258856130585: [3, 4, 2, 0, 1], quality: 9.188642837452908e-05\n",
      "Best Guess at T=0.030563645913324056: [2, 3, 0, 1, 4], quality: 9.771350400625366e-05\n",
      "Best Guess at T=0.029035463617657853: [0, 2, 3, 1, 4], quality: 9.230201218386561e-05\n",
      "Best Guess at T=0.027583690436774957: [1, 3, 4, 2, 0], quality: 9.188642837452908e-05\n",
      "Best Guess at T=0.02620450591493621: [2, 3, 0, 1, 4], quality: 9.771350400625366e-05\n",
      "Best Guess at T=0.0248942806191894: [2, 3, 0, 1, 4], quality: 9.771350400625366e-05\n",
      "Best Guess at T=0.023649566588229927: [3, 0, 2, 1, 4], quality: 9.83671060397403e-05\n",
      "Best Guess at T=0.022467088258818428: [2, 4, 1, 0, 3], quality: 9.771350400625366e-05\n",
      "Best Guess at T=0.021343733845877507: [0, 2, 3, 1, 4], quality: 9.230201218386561e-05\n",
      "Best Guess at T=0.02027654715358363: [3, 2, 4, 1, 0], quality: 9.771350400625366e-05\n",
      "Best Guess at T=0.019262719795904448: [1, 3, 0, 4, 2], quality: 0.00010890873448050534\n",
      "Best Guess at T=0.018299583806109226: [0, 3, 1, 2, 4], quality: 0.00010890873448050534\n",
      "Best Guess at T=0.017384604615803764: [3, 2, 0, 4, 1], quality: 9.230201218386561e-05\n",
      "Best Guess at T=0.016515374385013576: [1, 2, 4, 0, 3], quality: 0.00010890873448050534\n",
      "Best Guess at T=0.015689605665762895: [3, 4, 2, 0, 1], quality: 9.188642837452908e-05\n",
      "Best Guess at T=0.01490512538247475: [1, 2, 0, 3, 4], quality: 9.83671060397403e-05\n",
      "Best Guess at T=0.014159869113351011: [4, 1, 0, 3, 2], quality: 9.771350400625366e-05\n",
      "Best Guess at T=0.01345187565768346: [4, 3, 0, 2, 1], quality: 9.83671060397403e-05\n",
      "Best Guess at T=0.012779281874799287: [4, 1, 2, 0, 3], quality: 9.83671060397403e-05\n",
      "Best Guess at T=0.012140317781059323: [2, 4, 1, 0, 3], quality: 9.771350400625366e-05\n",
      "Best Guess at T=0.011533301892006355: [2, 4, 0, 3, 1], quality: 0.00010890873448050534\n",
      "Best Guess at T=0.010956636797406038: [0, 4, 1, 3, 2], quality: 9.230201218386561e-05\n",
      "Best Guess at T=0.010408804957535735: [3, 0, 1, 4, 2], quality: 9.771350400625366e-05\n",
      "Best Guess at T=0.009888364709658948: [3, 2, 4, 1, 0], quality: 9.771350400625366e-05\n",
      "Best Guess at T=0.009393946474176: [3, 1, 0, 2, 4], quality: 9.188642837452908e-05\n",
      "Best Guess at T=0.0089242491504672: [4, 1, 2, 0, 3], quality: 9.83671060397403e-05\n",
      "Best Guess at T=0.008478036692943839: [3, 1, 2, 4, 0], quality: 0.00010890873448050534\n",
      "Best Guess at T=0.008054134858296647: [2, 3, 4, 0, 1], quality: 8.043111075363951e-05\n",
      "Best Guess at T=0.0076514281153818135: [3, 2, 0, 4, 1], quality: 9.230201218386561e-05\n",
      "Best Guess at T=0.0072688567096127225: [2, 0, 3, 4, 1], quality: 9.83671060397403e-05\n",
      "Best Guess at T=0.006905413874132086: [3, 2, 0, 4, 1], quality: 9.230201218386561e-05\n",
      "Best Guess at T=0.006560143180425482: [2, 0, 3, 4, 1], quality: 9.83671060397403e-05\n",
      "Best Guess at T=0.0062321360214042075: [2, 0, 1, 3, 4], quality: 9.188642837452908e-05\n",
      "Best Guess at T=0.005920529220333997: [3, 1, 0, 2, 4], quality: 9.188642837452908e-05\n",
      "Best Guess at T=0.0056245027593172965: [4, 0, 2, 3, 1], quality: 9.230201218386561e-05\n",
      "Best Guess at T=0.005343277621351432: [1, 2, 0, 3, 4], quality: 9.83671060397403e-05\n",
      "Best Guess at T=0.0050761137402838595: [1, 0, 3, 2, 4], quality: 9.771350400625366e-05\n",
      "Best Guess at T=0.004822308053269666: [3, 2, 1, 0, 4], quality: 8.043111075363951e-05\n",
      "Best Guess at T=0.004581192650606183: [3, 1, 0, 2, 4], quality: 9.188642837452908e-05\n",
      "Best Guess at T=0.0043521330180758735: [3, 2, 1, 0, 4], quality: 8.043111075363951e-05\n",
      "Best Guess at T=0.0041345263671720795: [4, 3, 0, 2, 1], quality: 9.83671060397403e-05\n",
      "Best Guess at T=0.003927800048813475: [2, 1, 0, 4, 3], quality: 8.043111075363951e-05\n",
      "Best Guess at T=0.0037314100463728015: [1, 2, 3, 4, 0], quality: 8.043111075363951e-05\n",
      "Best Guess at T=0.0035448395440541612: [2, 0, 4, 1, 3], quality: 9.230201218386561e-05\n",
      "Best Guess at T=0.003367597566851453: [2, 3, 1, 4, 0], quality: 9.230201218386561e-05\n",
      "Best Guess at T=0.00319921768850888: [0, 4, 1, 3, 2], quality: 9.230201218386561e-05\n",
      "Best Guess at T=0.003039256804083436: [0, 3, 4, 1, 2], quality: 9.83671060397403e-05\n",
      "Best Guess at T=0.0028872939638792637: [4, 3, 0, 2, 1], quality: 9.83671060397403e-05\n",
      "Best Guess at T=0.0027429292656853004: [4, 0, 1, 2, 3], quality: 8.043111075363951e-05\n",
      "Best Guess at T=0.0026057828024010354: [4, 3, 2, 1, 0], quality: 8.043111075363951e-05\n",
      "Best Guess at T=0.0024754936622809836: [4, 0, 2, 3, 1], quality: 9.230201218386561e-05\n",
      "Best Guess at T=0.002351718979166934: [2, 3, 1, 4, 0], quality: 9.230201218386561e-05\n",
      "Best Guess at T=0.0022341330302085875: [3, 0, 2, 1, 4], quality: 9.83671060397403e-05\n",
      "Best Guess at T=0.002122426378698158: [4, 0, 3, 1, 2], quality: 0.00010890873448050534\n",
      "Best Guess at T=0.0020163050597632503: [4, 0, 2, 3, 1], quality: 9.230201218386561e-05\n",
      "Best Guess at T=0.0019154898067750877: [3, 1, 0, 2, 4], quality: 9.188642837452908e-05\n",
      "Best Guess at T=0.0018197153164363333: [2, 0, 4, 1, 3], quality: 9.230201218386561e-05\n",
      "Best Guess at T=0.0017287295506145165: [1, 0, 2, 4, 3], quality: 9.188642837452908e-05\n",
      "Best Guess at T=0.0016422930730837905: [1, 0, 3, 2, 4], quality: 9.771350400625366e-05\n",
      "Best Guess at T=0.0015601784194296008: [3, 1, 0, 2, 4], quality: 9.188642837452908e-05\n",
      "Best Guess at T=0.0014821694984581207: [1, 0, 2, 4, 3], quality: 9.188642837452908e-05\n",
      "Best Guess at T=0.0014080610235352145: [1, 0, 4, 3, 2], quality: 8.043111075363951e-05\n",
      "Best Guess at T=0.0013376579723584536: [4, 0, 2, 3, 1], quality: 9.230201218386561e-05\n",
      "Best Guess at T=0.0012707750737405309: [2, 1, 4, 3, 0], quality: 9.83671060397403e-05\n",
      "Best Guess at T=0.0012072363200535043: [1, 0, 4, 3, 2], quality: 8.043111075363951e-05\n",
      "Best Guess at T=0.001146874504050829: [2, 4, 3, 1, 0], quality: 9.188642837452908e-05\n",
      "Best Guess at T=0.0010895307788482875: [1, 3, 0, 4, 2], quality: 0.00010890873448050534\n",
      "Best Guess at T=0.001035054239905873: [3, 2, 1, 0, 4], quality: 8.043111075363951e-05\n",
      "Best Guess: [3, 2, 1, 0, 4], quality: 8.043111075363951e-05\n"
     ]
    },
    {
     "data": {
      "text/plain": [
       "([3, 2, 1, 0, 4], 8.043111075363951e-05)"
      ]
     },
     "execution_count": 50,
     "metadata": {},
     "output_type": "execute_result"
    }
   ],
   "source": [
    "SA(f=f, peturb=peturb_TSP, sol=sol_0, per_temp=10, t0=1, alpha=0.95, tol=1e-3, verbose=True)"
   ]
  },
  {
   "cell_type": "markdown",
   "id": "7c86769d",
   "metadata": {},
   "source": [
    "# Genetic Algorithms"
   ]
  },
  {
   "cell_type": "code",
   "execution_count": 51,
   "id": "518922b3",
   "metadata": {},
   "outputs": [],
   "source": [
    "def mutation_permutation(sol):\n",
    "    idxs = range(len(sol))\n",
    "    first, second = np.random.choice(idxs, size=2, replace=False)\n",
    "    sol[first], sol[second] = sol[second], sol[first]\n",
    "    return sol\n",
    "\n",
    "def mutation_selection(sol):\n",
    "    idx = np.random.randint(len(sol))\n",
    "    sol[idx] = 1-sol[idx]\n",
    "    return sol\n",
    "\n",
    "def crossover_permutation(sol1, sol2):\n",
    "    idx = np.random.randint(len(sol1))\n",
    "    sol = []\n",
    "    for i in range(idx):\n",
    "        sol += [sol1[i]]\n",
    "    for i in range(len(sol2)):\n",
    "        if sol2[i] not in sol:\n",
    "            sol += [sol2[i]]\n",
    "    return sol\n",
    "\n",
    "def crossover_selection(sol1, sol2):\n",
    "    idx = np.random.randint(len(sol1))\n",
    "    sol = sol1[:idx] + sol2[idx:]\n",
    "    return sol\n",
    "\n",
    "def fittest_survive(num, cands, is_sorted=True, f=None):\n",
    "    if is_sorted:\n",
    "        return cands[:num]\n",
    "    else:\n",
    "        assert f!=None, \"If candidates are not sorted by quality, a quality function must be provided\"\n",
    "        qual = [f(cand) for cand in cands]\n",
    "        idxs = np.argsort(qual)\n",
    "        use = idxs[:num]\n",
    "        return cands[use]"
   ]
  },
  {
   "cell_type": "code",
   "execution_count": 52,
   "id": "1a0e8829",
   "metadata": {},
   "outputs": [],
   "source": [
    "\n",
    "def GA(f, pop_size, gens, sampler, crossover, crossover_p, mutation, mutation_p, num_survive, verbose=False):\n",
    "    population = np.array([sampler() for _ in range(pop_size)])\n",
    "    fitness = np.array([f(member) for member in population])    \n",
    "    sorted_idxs = np.argsort(fitness)[::-1]\n",
    "    fitness = fitness[sorted_idxs]\n",
    "    population = population[sorted_idxs]\n",
    "    probabilities = fitness/sum(fitness)\n",
    "    \n",
    "    for i in range(gens):\n",
    "        if verbose: print('After {0} generations, the fittest member is {1}, with fitness: {2}'.format(i, population[0], f(population[0])))\n",
    "        new_pop = np.array([[None]*len(population[0]) for _ in range(pop_size)])\n",
    "        new_pop[:num_survive] = fittest_survive(num=num_survive, cands=population, is_sorted=True)\n",
    "        for j in range(pop_size - num_survive):\n",
    "            cand_idx = np.random.choice(len(population), p=probabilities)\n",
    "            cand = population[cand_idx]\n",
    "            if np.random.random()<mutation_p:\n",
    "                cand = mutation(cand)\n",
    "            if np.random.random()<crossover_p:\n",
    "                cand2_idx = np.random.choice(len(population), p=probabilities)\n",
    "                cand2 = population[cand2_idx]\n",
    "                cand = crossover(cand, cand2)\n",
    "            new_pop[num_survive+j] = cand\n",
    "        \n",
    "        population = new_pop.copy()\n",
    "        fitness = np.array([f(member) for member in population])    \n",
    "        sorted_idxs = np.argsort(fitness)[::-1]\n",
    "        fitness = fitness[sorted_idxs]\n",
    "        population = population[sorted_idxs]\n",
    "        probabilities = fitness/sum(fitness)\n",
    "        \n",
    "    return population[0], fitness[0]"
   ]
  },
  {
   "cell_type": "code",
   "execution_count": 54,
   "id": "43cdee9a",
   "metadata": {},
   "outputs": [
    {
     "data": {
      "text/plain": [
       "(array([3, 1, 2, 4, 0], dtype=object), 0.00010890873448050534)"
      ]
     },
     "execution_count": 54,
     "metadata": {},
     "output_type": "execute_result"
    }
   ],
   "source": [
    "T = np.array([\n",
    "    [0, 2053, 1155, 3017, 1385],\n",
    "    [2053, 0, 1080, 3415, 939],\n",
    "    [1155, 1080, 0, 3940, 285],\n",
    "    [3017, 3415, 3940, 0, 3975],\n",
    "    [1385, 939, 285, 3975, 0]\n",
    "    ])\n",
    "\n",
    "f = quality_TSP_Gen(T)\n",
    "sol_0 = [0, 1, 2, 3, 4]\n",
    "\n",
    "def TSP_sampler_gen(T):\n",
    "    def TSP_sampler():\n",
    "        return np.random.choice(range(len(T)), size=len(T), replace=False)\n",
    "    return TSP_sampler\n",
    "\n",
    "TSP_sampler = TSP_sampler_gen(T)\n",
    "\n",
    "GA(f=f, pop_size=3, gens=5, sampler=TSP_sampler, crossover=crossover_permutation, crossover_p=0.1, mutation=mutation_permutation, mutation_p=0.1, num_survive=1)"
   ]
  },
  {
   "cell_type": "markdown",
   "id": "103df9e6",
   "metadata": {},
   "source": [
    "# N-Queens"
   ]
  },
  {
   "cell_type": "code",
   "execution_count": 55,
   "id": "2151d6bf",
   "metadata": {},
   "outputs": [
    {
     "data": {
      "text/plain": [
       "(array([5, 0, 6, 2, 4, 1, 7, 3]), 0.499999999975)"
      ]
     },
     "execution_count": 55,
     "metadata": {},
     "output_type": "execute_result"
    }
   ],
   "source": [
    "def N_Queens_Gen(n):\n",
    "    def sample():\n",
    "        return np.random.choice(range(n), size=n, replace=False)\n",
    "    return sample\n",
    "\n",
    "def valid(board):\n",
    "    for i in range(len(board)):\n",
    "        for j in range(i+1, len(board)):\n",
    "            if abs(i-j) == (board[i] - board[j]):\n",
    "                return False\n",
    "    return True\n",
    "\n",
    "def score(board):\n",
    "    hits = 0\n",
    "    for i in range(len(board)):\n",
    "        for j in range(i+1, len(board)):\n",
    "            if abs(i-j) == (board[i] - board[j]):\n",
    "                hits += 1\n",
    "    return hits\n",
    "\n",
    "def fitness(board, epsilon=1e-10):\n",
    "    return 1/(score(board)+epsilon)\n",
    "\n",
    "eight_queens = N_Queens_Gen(n=8)\n",
    "initial_board = eight_queens()\n",
    "initial_board, fitness(initial_board)"
   ]
  },
  {
   "cell_type": "code",
   "execution_count": 56,
   "id": "a2450cc4",
   "metadata": {},
   "outputs": [
    {
     "data": {
      "text/plain": [
       "(array([4, 6, 1, 5, 2, 7, 3, 0]), 0.9999999999)"
      ]
     },
     "execution_count": 56,
     "metadata": {},
     "output_type": "execute_result"
    }
   ],
   "source": [
    "sa_res = SA(f=fitness, peturb=mutation_permutation, sol=initial_board, per_temp=1000, t0=100, alpha=0.95, tol=1e-3, verbose=False)\n",
    "sa_res"
   ]
  },
  {
   "cell_type": "code",
   "execution_count": 57,
   "id": "14dc618c",
   "metadata": {},
   "outputs": [
    {
     "data": {
      "text/plain": [
       "(array([2, 0, 3, 4, 7, 1, 5, 6]), 0.9999999999)"
      ]
     },
     "execution_count": 57,
     "metadata": {},
     "output_type": "execute_result"
    }
   ],
   "source": [
    "sa_res = SA(f=fitness, peturb=mutation_permutation, sol=initial_board, per_temp=100, t0=100, alpha=0.8, tol=1e-3, verbose=False)\n",
    "sa_res"
   ]
  },
  {
   "cell_type": "code",
   "execution_count": 58,
   "id": "0d198138",
   "metadata": {},
   "outputs": [
    {
     "data": {
      "text/plain": [
       "(array([4, 5, 1, 2, 6, 3, 7, 0], dtype=object), 10000000000.0)"
      ]
     },
     "execution_count": 58,
     "metadata": {},
     "output_type": "execute_result"
    }
   ],
   "source": [
    "ga_res = GA(f=fitness, pop_size=1000, gens=225, sampler=eight_queens, crossover=crossover_permutation, crossover_p=0.1, mutation=mutation_permutation, mutation_p=0.1, num_survive=3, verbose=False)\n",
    "ga_res"
   ]
  },
  {
   "cell_type": "code",
   "execution_count": 59,
   "id": "2c146729",
   "metadata": {},
   "outputs": [
    {
     "data": {
      "text/plain": [
       "(array([3, 4, 0, 5, 2, 7, 1, 6], dtype=object), 10000000000.0)"
      ]
     },
     "execution_count": 59,
     "metadata": {},
     "output_type": "execute_result"
    }
   ],
   "source": [
    "ga_res = GA(f=fitness, pop_size=20, gens=20, sampler=eight_queens, crossover=crossover_permutation, crossover_p=0.1, mutation=mutation_permutation, mutation_p=0.1, num_survive=3, verbose=False)\n",
    "ga_res"
   ]
  },
  {
   "cell_type": "code",
   "execution_count": null,
   "id": "c8cf8043",
   "metadata": {},
   "outputs": [],
   "source": []
  }
 ],
 "metadata": {
  "kernelspec": {
   "display_name": "Python 3 (ipykernel)",
   "language": "python",
   "name": "python3"
  },
  "language_info": {
   "codemirror_mode": {
    "name": "ipython",
    "version": 3
   },
   "file_extension": ".py",
   "mimetype": "text/x-python",
   "name": "python",
   "nbconvert_exporter": "python",
   "pygments_lexer": "ipython3",
   "version": "3.8.10"
  }
 },
 "nbformat": 4,
 "nbformat_minor": 5
}
